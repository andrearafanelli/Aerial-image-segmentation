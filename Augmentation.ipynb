{
 "cells": [


  {
   "cell_type": "code",
   "execution_count": 1,
   "id": "bf5db37e",
   "metadata": {},
   "outputs": [],
   "source": [
    "import os\n",
    "import cv2\n",
    "import torch\n",
    "from torch.optim import SGD\n",
    "from torch.utils.data import DataLoader\n",
    "import segmentation_models_pytorch as sm\n",
    "import cv2\n",
    "import catalyst\n",
    "import wandb\n",
    "from PIL import Image\n",
    "import albumentations\n",
    "from sklearn.model_selection import train_test_split\n",
    "import numpy as np\n",
    "from collections import defaultdict\n",
    "import copy\n",
    "import time\n",
    "from tqdm.auto import tqdm\n",
    "import torch.nn.functional as F\n",
    "import sklearn\n",
    "import pickle\n",
    "import matplotlib.pyplot as plt\n",
    "import random\n",
    "\n",
    "from utils.masks import getData, augmentation"
   ]
  },
  {
   "cell_type": "code",
   "execution_count": null,
   "id": "04debeb2",
   "metadata": {},
   "outputs": [],
   "source": [
    "!cp -r 'logs/FloodNetData/FloodNetData/FloodNet/' 'Data/'"
   ]
  },
  {
   "cell_type": "raw",
   "id": "0bd47823",
   "metadata": {},
   "source": []
  },
  {
   "cell_type": "code",
   "execution_count": 2,
   "id": "d4143939",
   "metadata": {
    "scrolled": true
   },
   "outputs": [
    {
     "name": "stdout",
     "output_type": "stream",
     "text": [
      "Flooded images:      204 Flooded masks:     204\n",
      "Non-Flooded images: 1388 Non-Flooded masks: 1388\n"
     ]
    }
   ],
   "source": [
    "floodDir = \"Data/FloodNet/Train/Labeled/Flooded\"\n",
    "nonFloodDir = \"Data/FloodNet/Train/Labeled/Non-Flooded\"\n",
    "\n",
    "floodImgDir = os.path.join(floodDir, \"image\")\n",
    "floodMaskDir = os.path.join(floodDir, \"mask\")\n",
    "nonFloodImgDir = os.path.join(nonFloodDir, \"image\")\n",
    "nonFloodMaskDir = os.path.join(nonFloodDir, \"mask\")\n",
    "\n",
    "floodImg = len(os.listdir(floodImgDir))\n",
    "floodMask = len(os.listdir(floodMaskDir))\n",
    "nonFloodImg = len(os.listdir(nonFloodImgDir))\n",
    "nonFloodMask = len(os.listdir(nonFloodMaskDir))\n",
    "print(f\"Flooded images:      {floodImg} Flooded masks:     {floodMask}\")\n",
    "print(f\"Non-Flooded images: {nonFloodImg} Non-Flooded masks: {nonFloodMask}\")"
   ]
  },
  {
   "cell_type": "raw",
   "id": "73ca1f2b",
   "metadata": {},
   "source": []
  },
  {
   "cell_type": "code",
   "execution_count": 3,
   "id": "58b659d2",
   "metadata": {},
   "outputs": [],
   "source": [
    "x =  [os.path.join(nonFloodImgDir, file) for file in sorted(os.listdir(nonFloodImgDir))]"
   ]
  },
  {
   "cell_type": "code",
   "execution_count": 5,
   "id": "99784f9d",
   "metadata": {},
   "outputs": [],
   "source": [
    "dataset = getData(x)"
   ]
  },
  {
   "cell_type": "raw",
   "id": "75e3204a",
   "metadata": {},
   "source": []
  },
  {
   "cell_type": "markdown",
   "id": "74918977",
   "metadata": {},
   "source": [
    "## Augmentation"
   ]
  },
  {
   "cell_type": "code",
   "execution_count": 6,
   "id": "5a6e3b25",
   "metadata": {},
   "outputs": [],
   "source": [
    "for image, mask, index in dataset:\n",
    "    \n",
    "    im1, im2, im3, m1, m2, m3 = augmentation(image, mask)\n",
    "    \n",
    "    idx = x[index].split('.')[0]\n",
    "    diri1 = idx + '_0.jpg'\n",
    "    dirm1 = diri1.replace('image','mask').replace('.jpg','_lab.png')\n",
    "    \n",
    "    im1.save(diri1)\n",
    "    m1.save(dirm1)\n",
    "    \n",
    "    diri2 = idx + '_1.jpg'\n",
    "    dirm2 = diri2.replace('image','mask').replace('.jpg','_lab.png')\n",
    "    \n",
    "    im2.save(diri2)\n",
    "    m2.save(dirm2)\n",
    "   \n",
    "    diri3 = idx + '_2.jpg'\n",
    "    dirm3 = diri3.replace('image','mask').replace('.jpg','_lab.png')\n",
    "    \n",
    "    im3.save(diri3)\n",
    "    m3.save(dirm3)\n"
   ]
  },
  {
   "cell_type": "code",
   "execution_count": null,
   "id": "a9a21bec",
   "metadata": {},
   "outputs": [],
   "source": [
    "imgDim = 224\n",
    "for i in (random.sample(x, 3)):\n",
    "    \n",
    "    idx = i.split('.')[0]\n",
    "    idx1 = idx + '_0.jpg'\n",
    "    idx2 = idx + '_1.jpg'\n",
    "    idx3 = idx + '_2.jpg'\n",
    "    \n",
    "    original = cv2.imread(i)\n",
    "    original = cv2.resize(original,(imgDim, imgDim))\n",
    "    original_mask = cv2.imread(i.replace(\"image\", \"mask\").replace(\".jpg\", \"_lab.png\"))\n",
    "    original_mask = cv2.resize(original_mask,(imgDim, imgDim))\n",
    "    original_mask = cv2.cvtColor(original_mask, cv2.COLOR_BGR2GRAY)\n",
    "    \n",
    "    im1 = cv2.imread(idx1)\n",
    "    im1 = cv2.resize(im1,(imgDim, imgDim))\n",
    "    m1 = cv2.imread(idx1.replace(\"image\", \"mask\").replace(\".jpg\", \"_lab.png\"))\n",
    "    m1 = cv2.resize(m1,(imgDim, imgDim))\n",
    "    m1 = cv2.cvtColor(m1, cv2.COLOR_BGR2GRAY)\n",
    "    \n",
    "    im2 = cv2.imread(idx2)\n",
    "    im2 = cv2.resize(im2,(imgDim, imgDim))\n",
    "    m2 = cv2.imread(idx2.replace(\"image\", \"mask\").replace(\".jpg\", \"_lab.png\"))\n",
    "    m2 = cv2.resize(m2,(imgDim, imgDim))\n",
    "    m2 = cv2.cvtColor(m2, cv2.COLOR_BGR2GRAY)\n",
    "    \n",
    "    im3 = cv2.imread(idx3)\n",
    "    im3 = cv2.resize(im3,(imgDim, imgDim))\n",
    "    m3 = cv2.imread(idx3.replace(\"image\", \"mask\").replace(\".jpg\", \"_lab.png\"))\n",
    "    m3 = cv2.resize(m3,(imgDim, imgDim))\n",
    "    m3 = cv2.cvtColor(m3, cv2.COLOR_BGR2GRAY)\n",
    "\n",
    "\n",
    "    figure, ax = plt.subplots(nrows = 4, ncols = 2, figsize=(20, 10))\n",
    "    ax[0][0].imshow(original)\n",
    "    ax[0][1].imshow(original_mask)\n",
    "    ax[1][0].imshow(im1)\n",
    "    ax[1][1].imshow(m1)\n",
    "    ax[2][0].imshow(im2)\n",
    "    ax[2][1].imshow(m2)\n",
    "    ax[3][0].imshow(im3)\n",
    "    ax[3][1].imshow(m3)\n",
    " \n",
    "    figure.tight_layout()\n",
    "    figure.show()"
   ]
  },
  {
   "cell_type": "raw",
   "id": "5a23e68f",
   "metadata": {},
   "source": []
  },
  {
   "cell_type": "markdown",
   "id": "76161d3d",
   "metadata": {},
   "source": [
    "## New classes"
   ]
  },
  {
   "cell_type": "markdown",
   "id": "7b2eb95f",
   "metadata": {},
   "source": [
    "{'Background':0,'Building':1,'Road':2, 'Water': 3,'Tree':4,'Vehicle':5,'Pool':6,'Grass':7}"
   ]
  },
  {
   "cell_type": "code",
   "execution_count": null,
   "id": "f0653dd3",
   "metadata": {},
   "outputs": [],
   "source": [
    "for image, mask, index in dataset:\n",
    "    \n",
    "    mask = np.array(mask)\n",
    "    mask = np.ma.masked_where(mask == 2, mask)\n",
    "    mask = mask.filled(1)\n",
    "    mask = np.ma.masked_where(mask == 3, mask)\n",
    "    mask = mask.filled(2)\n",
    "    mask = np.ma.masked_where(mask == 4, mask)\n",
    "    mask = mask.filled(2)\n",
    "    mask = np.ma.masked_where(mask == 5, mask)\n",
    "    mask = mask.filled(3)\n",
    "    mask = np.ma.masked_where(mask == 6, mask)\n",
    "    mask = mask.filled(4)\n",
    "    mask = np.ma.masked_where(mask == 7, mask)\n",
    "    mask = mask.filled(5)\n",
    "    mask = np.ma.masked_where(mask == 8, mask)\n",
    "    mask = mask.filled(6)\n",
    "    mask = np.ma.masked_where(mask == 9, mask)\n",
    "    mask = mask.filled(7)\n",
    "    \n",
    "    mask = Image.fromarray(mask)\n",
    "    idx = x[index].replace('image','mask').replace('.jpg','_lab.png')\n",
    "    mask.save(idx)"
   ]
  },
  {
   "cell_type": "raw",
   "id": "15e74d4f",
   "metadata": {},
   "source": []
  }
 ],
 "metadata": {
  "kernelspec": {
   "display_name": "Python 3 (ipykernel)",
   "language": "python",
   "name": "python3"
  },
  "language_info": {
   "codemirror_mode": {
    "name": "ipython",
    "version": 3
   },
   "file_extension": ".py",
   "mimetype": "text/x-python",
   "name": "python",
   "nbconvert_exporter": "python",
   "pygments_lexer": "ipython3",
   "version": "3.9.13"
  }
 },
 "nbformat": 4,
 "nbformat_minor": 5
}
